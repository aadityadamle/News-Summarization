{
  "nbformat": 4,
  "nbformat_minor": 0,
  "metadata": {
    "colab": {
      "name": "News Summarization",
      "provenance": [],
      "include_colab_link": true
    },
    "kernelspec": {
      "name": "python3",
      "display_name": "Python 3"
    }
  },
  "cells": [
    {
      "cell_type": "markdown",
      "metadata": {
        "id": "view-in-github",
        "colab_type": "text"
      },
      "source": [
        "<a href=\"https://colab.research.google.com/github/aadityadamle/News-Summarization/blob/main/News_Summarization.ipynb\" target=\"_parent\"><img src=\"https://colab.research.google.com/assets/colab-badge.svg\" alt=\"Open In Colab\"/></a>"
      ]
    },
    {
      "cell_type": "markdown",
      "metadata": {
        "id": "sZmN5fHi8f_4"
      },
      "source": [
        "There are two types of text summarizations - Extractive and Abstractive. \n",
        "\n",
        "Extractive summurization is simply selecting important words from the text to generate a summary. Abstractive summarization uses deeplearning techniques to choose crucial information and paraphrase it to form a more meaningful summary. We are going to look at simple the approach using algorithms.  "
      ]
    },
    {
      "cell_type": "code",
      "metadata": {
        "id": "xh7p3jlYpxtU"
      },
      "source": [
        "#import library\n",
        "import nltk\n",
        "import pandas as pd\n",
        "import re"
      ],
      "execution_count": 1,
      "outputs": []
    },
    {
      "cell_type": "code",
      "metadata": {
        "colab": {
          "base_uri": "https://localhost:8080/"
        },
        "id": "xqIOOHsXDLsI",
        "outputId": "11942f9a-6f59-425a-ec75-82904d62a839"
      },
      "source": [
        "#download tokenizer\n",
        "nltk.download(\"punkt\")"
      ],
      "execution_count": 2,
      "outputs": [
        {
          "output_type": "stream",
          "text": [
            "[nltk_data] Downloading package punkt to /root/nltk_data...\n",
            "[nltk_data]   Unzipping tokenizers/punkt.zip.\n"
          ],
          "name": "stdout"
        },
        {
          "output_type": "execute_result",
          "data": {
            "text/plain": [
              "True"
            ]
          },
          "metadata": {
            "tags": []
          },
          "execution_count": 2
        }
      ]
    },
    {
      "cell_type": "code",
      "metadata": {
        "colab": {
          "base_uri": "https://localhost:8080/"
        },
        "id": "a21NLSsg_6EO",
        "outputId": "36506f96-758a-43da-c8f6-27a0f4aa9bbc"
      },
      "source": [
        "#Download dataset\n",
        "!wget https://raw.githubusercontent.com/aadityadamle/News-Summarization/main/news_summary.csv"
      ],
      "execution_count": 3,
      "outputs": [
        {
          "output_type": "stream",
          "text": [
            "--2021-04-14 19:57:00--  https://raw.githubusercontent.com/aadityadamle/News-Summarization/main/news_summary.csv\n",
            "Resolving raw.githubusercontent.com (raw.githubusercontent.com)... 185.199.108.133, 185.199.109.133, 185.199.110.133, ...\n",
            "Connecting to raw.githubusercontent.com (raw.githubusercontent.com)|185.199.108.133|:443... connected.\n",
            "HTTP request sent, awaiting response... 200 OK\n",
            "Length: 11896415 (11M) [text/plain]\n",
            "Saving to: ‘news_summary.csv’\n",
            "\n",
            "news_summary.csv    100%[===================>]  11.34M  39.1MB/s    in 0.3s    \n",
            "\n",
            "2021-04-14 19:57:01 (39.1 MB/s) - ‘news_summary.csv’ saved [11896415/11896415]\n",
            "\n"
          ],
          "name": "stdout"
        }
      ]
    },
    {
      "cell_type": "markdown",
      "metadata": {
        "id": "W9LVYwRVQkCn"
      },
      "source": [
        "Dataset source: https://www.kaggle.com/sunnysai12345/news-summary"
      ]
    },
    {
      "cell_type": "code",
      "metadata": {
        "colab": {
          "base_uri": "https://localhost:8080/",
          "height": 481
        },
        "id": "bB13lVVIBRnw",
        "outputId": "99d1c314-8f11-40fd-cf07-9adec35e709f"
      },
      "source": [
        "#Read dataset\n",
        "data = pd.read_csv(\"/content/news_summary.csv\", encoding=\"latin-1\")\n",
        "data.head()"
      ],
      "execution_count": 4,
      "outputs": [
        {
          "output_type": "execute_result",
          "data": {
            "text/html": [
              "<div>\n",
              "<style scoped>\n",
              "    .dataframe tbody tr th:only-of-type {\n",
              "        vertical-align: middle;\n",
              "    }\n",
              "\n",
              "    .dataframe tbody tr th {\n",
              "        vertical-align: top;\n",
              "    }\n",
              "\n",
              "    .dataframe thead th {\n",
              "        text-align: right;\n",
              "    }\n",
              "</style>\n",
              "<table border=\"1\" class=\"dataframe\">\n",
              "  <thead>\n",
              "    <tr style=\"text-align: right;\">\n",
              "      <th></th>\n",
              "      <th>author</th>\n",
              "      <th>date</th>\n",
              "      <th>headlines</th>\n",
              "      <th>read_more</th>\n",
              "      <th>text</th>\n",
              "      <th>ctext</th>\n",
              "    </tr>\n",
              "  </thead>\n",
              "  <tbody>\n",
              "    <tr>\n",
              "      <th>0</th>\n",
              "      <td>Chhavi Tyagi</td>\n",
              "      <td>03 Aug 2017,Thursday</td>\n",
              "      <td>Daman &amp; Diu revokes mandatory Rakshabandhan in...</td>\n",
              "      <td>http://www.hindustantimes.com/india-news/raksh...</td>\n",
              "      <td>The Administration of Union Territory Daman an...</td>\n",
              "      <td>The Daman and Diu administration on Wednesday ...</td>\n",
              "    </tr>\n",
              "    <tr>\n",
              "      <th>1</th>\n",
              "      <td>Daisy Mowke</td>\n",
              "      <td>03 Aug 2017,Thursday</td>\n",
              "      <td>Malaika slams user who trolled her for 'divorc...</td>\n",
              "      <td>http://www.hindustantimes.com/bollywood/malaik...</td>\n",
              "      <td>Malaika Arora slammed an Instagram user who tr...</td>\n",
              "      <td>From her special numbers to TV?appearances, Bo...</td>\n",
              "    </tr>\n",
              "    <tr>\n",
              "      <th>2</th>\n",
              "      <td>Arshiya Chopra</td>\n",
              "      <td>03 Aug 2017,Thursday</td>\n",
              "      <td>'Virgin' now corrected to 'Unmarried' in IGIMS...</td>\n",
              "      <td>http://www.hindustantimes.com/patna/bihar-igim...</td>\n",
              "      <td>The Indira Gandhi Institute of Medical Science...</td>\n",
              "      <td>The Indira Gandhi Institute of Medical Science...</td>\n",
              "    </tr>\n",
              "    <tr>\n",
              "      <th>3</th>\n",
              "      <td>Sumedha Sehra</td>\n",
              "      <td>03 Aug 2017,Thursday</td>\n",
              "      <td>Aaj aapne pakad liya: LeT man Dujana before be...</td>\n",
              "      <td>http://indiatoday.intoday.in/story/abu-dujana-...</td>\n",
              "      <td>Lashkar-e-Taiba's Kashmir commander Abu Dujana...</td>\n",
              "      <td>Lashkar-e-Taiba's Kashmir commander Abu Dujana...</td>\n",
              "    </tr>\n",
              "    <tr>\n",
              "      <th>4</th>\n",
              "      <td>Aarushi Maheshwari</td>\n",
              "      <td>03 Aug 2017,Thursday</td>\n",
              "      <td>Hotel staff to get training to spot signs of s...</td>\n",
              "      <td>http://indiatoday.intoday.in/story/sex-traffic...</td>\n",
              "      <td>Hotels in Maharashtra will train their staff t...</td>\n",
              "      <td>Hotels in Mumbai and other Indian cities are t...</td>\n",
              "    </tr>\n",
              "  </tbody>\n",
              "</table>\n",
              "</div>"
            ],
            "text/plain": [
              "               author  ...                                              ctext\n",
              "0        Chhavi Tyagi  ...  The Daman and Diu administration on Wednesday ...\n",
              "1         Daisy Mowke  ...  From her special numbers to TV?appearances, Bo...\n",
              "2      Arshiya Chopra  ...  The Indira Gandhi Institute of Medical Science...\n",
              "3       Sumedha Sehra  ...  Lashkar-e-Taiba's Kashmir commander Abu Dujana...\n",
              "4  Aarushi Maheshwari  ...  Hotels in Mumbai and other Indian cities are t...\n",
              "\n",
              "[5 rows x 6 columns]"
            ]
          },
          "metadata": {
            "tags": []
          },
          "execution_count": 4
        }
      ]
    },
    {
      "cell_type": "code",
      "metadata": {
        "colab": {
          "base_uri": "https://localhost:8080/"
        },
        "id": "QGTyMtz9B-kQ",
        "outputId": "a1fb53d7-a2e5-4302-9e51-a03e34efef39"
      },
      "source": [
        "#Examine dataset and columns\n",
        "print(data.shape)\n",
        "data.columns"
      ],
      "execution_count": 5,
      "outputs": [
        {
          "output_type": "stream",
          "text": [
            "(4514, 6)\n"
          ],
          "name": "stdout"
        },
        {
          "output_type": "execute_result",
          "data": {
            "text/plain": [
              "Index(['author', 'date', 'headlines', 'read_more', 'text', 'ctext'], dtype='object')"
            ]
          },
          "metadata": {
            "tags": []
          },
          "execution_count": 5
        }
      ]
    },
    {
      "cell_type": "code",
      "metadata": {
        "colab": {
          "base_uri": "https://localhost:8080/"
        },
        "id": "-isJBMGwzXNW",
        "outputId": "933b73cf-4fdc-4c7c-f0cc-4b8812a253d6"
      },
      "source": [
        "#Check for na values\n",
        "print(data.isna().sum())"
      ],
      "execution_count": 6,
      "outputs": [
        {
          "output_type": "stream",
          "text": [
            "author         0\n",
            "date           0\n",
            "headlines      0\n",
            "read_more      0\n",
            "text           0\n",
            "ctext        118\n",
            "dtype: int64\n"
          ],
          "name": "stdout"
        }
      ]
    },
    {
      "cell_type": "code",
      "metadata": {
        "colab": {
          "base_uri": "https://localhost:8080/"
        },
        "id": "pEuZP6Qf0r8T",
        "outputId": "70c46945-a124-4539-a83e-ba8d3ea4a1d6"
      },
      "source": [
        "#Delete rows with na values\n",
        "data = data.dropna()\n",
        "data.shape"
      ],
      "execution_count": 7,
      "outputs": [
        {
          "output_type": "execute_result",
          "data": {
            "text/plain": [
              "(4396, 6)"
            ]
          },
          "metadata": {
            "tags": []
          },
          "execution_count": 7
        }
      ]
    },
    {
      "cell_type": "code",
      "metadata": {
        "colab": {
          "base_uri": "https://localhost:8080/"
        },
        "id": "xy5dX0f_CFRt",
        "outputId": "105abca6-df84-4826-ca58-7304184e955f"
      },
      "source": [
        "#Select useful columns\n",
        "data = data[[\"headlines\",\"text\",\"ctext\"]]\n",
        "print(data)"
      ],
      "execution_count": 8,
      "outputs": [
        {
          "output_type": "stream",
          "text": [
            "                                              headlines  ...                                              ctext\n",
            "0     Daman & Diu revokes mandatory Rakshabandhan in...  ...  The Daman and Diu administration on Wednesday ...\n",
            "1     Malaika slams user who trolled her for 'divorc...  ...  From her special numbers to TV?appearances, Bo...\n",
            "2     'Virgin' now corrected to 'Unmarried' in IGIMS...  ...  The Indira Gandhi Institute of Medical Science...\n",
            "3     Aaj aapne pakad liya: LeT man Dujana before be...  ...  Lashkar-e-Taiba's Kashmir commander Abu Dujana...\n",
            "4     Hotel staff to get training to spot signs of s...  ...  Hotels in Mumbai and other Indian cities are t...\n",
            "...                                                 ...  ...                                                ...\n",
            "4509  Rasna seeking ?250 cr revenue from snack categ...  ...  Mumbai, Feb 23 (PTI) Fruit juice concentrate m...\n",
            "4510  Sachin attends Rajya Sabha after questions on ...  ...  Former cricketer Sachin Tendulkar was spotted ...\n",
            "4511  Shouldn't rob their childhood: Aamir on kids r...  ...  Aamir Khan, whose last film Dangal told the st...\n",
            "4512  Asha Bhosle gets ?53,000 power bill for unused...  ...  Maharahstra Power Minister Chandrashekhar Bawa...\n",
            "4513  More than half of India's languages may die in...  ...  More than half of the languages spoken by Indi...\n",
            "\n",
            "[4396 rows x 3 columns]\n"
          ],
          "name": "stdout"
        }
      ]
    },
    {
      "cell_type": "code",
      "metadata": {
        "colab": {
          "base_uri": "https://localhost:8080/"
        },
        "id": "3BbN4NqoChUp",
        "outputId": "ab98663a-4ca4-44b5-8713-73ca8fd6f452"
      },
      "source": [
        "#Prepare series for complete texts\n",
        "c_texts = data[\"ctext\"]\n",
        "c_texts[:10]"
      ],
      "execution_count": 9,
      "outputs": [
        {
          "output_type": "execute_result",
          "data": {
            "text/plain": [
              "0    The Daman and Diu administration on Wednesday ...\n",
              "1    From her special numbers to TV?appearances, Bo...\n",
              "2    The Indira Gandhi Institute of Medical Science...\n",
              "3    Lashkar-e-Taiba's Kashmir commander Abu Dujana...\n",
              "4    Hotels in Mumbai and other Indian cities are t...\n",
              "5    An alleged suspect in a kidnapping case was fo...\n",
              "6    In an interesting ruling, the Delhi high court...\n",
              "7     A 60-year old Dalit woman was allegedly lynch...\n",
              "8    Two years after a helicopter crash near the Bo...\n",
              "9    It sounds like satire, but make no mistake: at...\n",
              "Name: ctext, dtype: object"
            ]
          },
          "metadata": {
            "tags": []
          },
          "execution_count": 9
        }
      ]
    },
    {
      "cell_type": "code",
      "metadata": {
        "colab": {
          "base_uri": "https://localhost:8080/"
        },
        "id": "nG-HNzIp_sB4",
        "outputId": "0c600926-8540-4dd2-de10-134703d892bb"
      },
      "source": [
        "#Select a complete text for processing\n",
        "c_text0 = c_texts[0]\n",
        "print(c_text0)"
      ],
      "execution_count": 10,
      "outputs": [
        {
          "output_type": "stream",
          "text": [
            "The Daman and Diu administration on Wednesday withdrew a circular that asked women staff to tie rakhis on male colleagues after the order triggered a backlash from employees and was ripped apart on social media.The union territory?s administration was forced to retreat within 24 hours of issuing the circular that made it compulsory for its staff to celebrate Rakshabandhan at workplace.?It has been decided to celebrate the festival of Rakshabandhan on August 7. In this connection, all offices/ departments shall remain open and celebrate the festival collectively at a suitable time wherein all the lady staff shall tie rakhis to their colleagues,? the order, issued on August 1 by Gurpreet Singh, deputy secretary (personnel), had said.To ensure that no one skipped office, an attendance report was to be sent to the government the next evening.The two notifications ? one mandating the celebration of Rakshabandhan (left) and the other withdrawing the mandate (right) ? were issued by the Daman and Diu administration a day apart. The circular was withdrawn through a one-line order issued late in the evening by the UT?s department of personnel and administrative reforms.?The circular is ridiculous. There are sensitivities involved. How can the government dictate who I should tie rakhi to? We should maintain the professionalism of a workplace? an official told Hindustan Times earlier in the day. She refused to be identified.The notice was issued on Daman and Diu administrator and former Gujarat home minister Praful Kodabhai Patel?s direction, sources said.Rakshabandhan, a celebration of the bond between brothers and sisters, is one of several Hindu festivities and rituals that are no longer confined of private, family affairs but have become tools to push politic al ideologies.In 2014, the year BJP stormed to power at the Centre, Rashtriya Swayamsevak Sangh (RSS) chief Mohan Bhagwat said the festival had ?national significance? and should be celebrated widely ?to protect Hindu culture and live by the values enshrined in it?. The RSS is the ideological parent of the ruling BJP.Last year, women ministers in the Modi government went to the border areas to celebrate the festival with soldiers. A year before, all cabinet ministers were asked to go to their constituencies for the festival.\n"
          ],
          "name": "stdout"
        }
      ]
    },
    {
      "cell_type": "code",
      "metadata": {
        "colab": {
          "base_uri": "https://localhost:8080/"
        },
        "id": "N1q920DlBUgg",
        "outputId": "bc0b2cad-8646-4264-ec53-2a024ed09246"
      },
      "source": [
        "#Prepare list of sentences with sentence tokenizer\n",
        "sents0 = nltk.sent_tokenize(c_text0)\n",
        "sents0"
      ],
      "execution_count": 11,
      "outputs": [
        {
          "output_type": "execute_result",
          "data": {
            "text/plain": [
              "['The Daman and Diu administration on Wednesday withdrew a circular that asked women staff to tie rakhis on male colleagues after the order triggered a backlash from employees and was ripped apart on social media.The union territory?s administration was forced to retreat within 24 hours of issuing the circular that made it compulsory for its staff to celebrate Rakshabandhan at workplace.',\n",
              " '?It has been decided to celebrate the festival of Rakshabandhan on August 7.',\n",
              " 'In this connection, all offices/ departments shall remain open and celebrate the festival collectively at a suitable time wherein all the lady staff shall tie rakhis to their colleagues,?',\n",
              " 'the order, issued on August 1 by Gurpreet Singh, deputy secretary (personnel), had said.To ensure that no one skipped office, an attendance report was to be sent to the government the next evening.The two notifications ?',\n",
              " 'one mandating the celebration of Rakshabandhan (left) and the other withdrawing the mandate (right) ?',\n",
              " 'were issued by the Daman and Diu administration a day apart.',\n",
              " 'The circular was withdrawn through a one-line order issued late in the evening by the UT?s department of personnel and administrative reforms.',\n",
              " '?The circular is ridiculous.',\n",
              " 'There are sensitivities involved.',\n",
              " 'How can the government dictate who I should tie rakhi to?',\n",
              " 'We should maintain the professionalism of a workplace?',\n",
              " 'an official told Hindustan Times earlier in the day.',\n",
              " 'She refused to be identified.The notice was issued on Daman and Diu administrator and former Gujarat home minister Praful Kodabhai Patel?s direction, sources said.Rakshabandhan, a celebration of the bond between brothers and sisters, is one of several Hindu festivities and rituals that are no longer confined of private, family affairs but have become tools to push politic al ideologies.In 2014, the year BJP stormed to power at the Centre, Rashtriya Swayamsevak Sangh (RSS) chief Mohan Bhagwat said the festival had ?national significance?',\n",
              " 'and should be celebrated widely ?to protect Hindu culture and live by the values enshrined in it?.',\n",
              " 'The RSS is the ideological parent of the ruling BJP.Last year, women ministers in the Modi government went to the border areas to celebrate the festival with soldiers.',\n",
              " 'A year before, all cabinet ministers were asked to go to their constituencies for the festival.']"
            ]
          },
          "metadata": {
            "tags": []
          },
          "execution_count": 11
        }
      ]
    },
    {
      "cell_type": "code",
      "metadata": {
        "colab": {
          "base_uri": "https://localhost:8080/"
        },
        "id": "8HzZAAE_Hj6r",
        "outputId": "b6dd0aa7-38e7-480f-a724-f2f49e26c96a"
      },
      "source": [
        "#Clean sentences of symbols and punctuation\n",
        "sents0_cleaned = [re.sub(r\"[^a-zA-Z0-9]\", \" \", sentence) for sentence in sents0]\n",
        "sents0_cleaned"
      ],
      "execution_count": 12,
      "outputs": [
        {
          "output_type": "execute_result",
          "data": {
            "text/plain": [
              "['The Daman and Diu administration on Wednesday withdrew a circular that asked women staff to tie rakhis on male colleagues after the order triggered a backlash from employees and was ripped apart on social media The union territory s administration was forced to retreat within 24 hours of issuing the circular that made it compulsory for its staff to celebrate Rakshabandhan at workplace ',\n",
              " ' It has been decided to celebrate the festival of Rakshabandhan on August 7 ',\n",
              " 'In this connection  all offices  departments shall remain open and celebrate the festival collectively at a suitable time wherein all the lady staff shall tie rakhis to their colleagues  ',\n",
              " 'the order  issued on August 1 by Gurpreet Singh  deputy secretary  personnel   had said To ensure that no one skipped office  an attendance report was to be sent to the government the next evening The two notifications  ',\n",
              " 'one mandating the celebration of Rakshabandhan  left  and the other withdrawing the mandate  right   ',\n",
              " 'were issued by the Daman and Diu administration a day apart ',\n",
              " 'The circular was withdrawn through a one line order issued late in the evening by the UT s department of personnel and administrative reforms ',\n",
              " ' The circular is ridiculous ',\n",
              " 'There are sensitivities involved ',\n",
              " 'How can the government dictate who I should tie rakhi to ',\n",
              " 'We should maintain the professionalism of a workplace ',\n",
              " 'an official told Hindustan Times earlier in the day ',\n",
              " 'She refused to be identified The notice was issued on Daman and Diu administrator and former Gujarat home minister Praful Kodabhai Patel s direction  sources said Rakshabandhan  a celebration of the bond between brothers and sisters  is one of several Hindu festivities and rituals that are no longer confined of private  family affairs but have become tools to push politic al ideologies In 2014  the year BJP stormed to power at the Centre  Rashtriya Swayamsevak Sangh  RSS  chief Mohan Bhagwat said the festival had  national significance ',\n",
              " 'and should be celebrated widely  to protect Hindu culture and live by the values enshrined in it  ',\n",
              " 'The RSS is the ideological parent of the ruling BJP Last year  women ministers in the Modi government went to the border areas to celebrate the festival with soldiers ',\n",
              " 'A year before  all cabinet ministers were asked to go to their constituencies for the festival ']"
            ]
          },
          "metadata": {
            "tags": []
          },
          "execution_count": 12
        }
      ]
    },
    {
      "cell_type": "code",
      "metadata": {
        "colab": {
          "base_uri": "https://localhost:8080/"
        },
        "id": "mCXjGJ4gFL_M",
        "outputId": "2098fcaa-41e2-44cb-9619-91fe5c320e56"
      },
      "source": [
        "#download stopwords\n",
        "nltk.download(\"stopwords\")\n",
        "# Import and set the English stopwords\n",
        "from nltk.corpus import stopwords\n",
        "stop_words = set(stopwords.words(\"english\"))"
      ],
      "execution_count": 13,
      "outputs": [
        {
          "output_type": "stream",
          "text": [
            "[nltk_data] Downloading package stopwords to /root/nltk_data...\n",
            "[nltk_data]   Unzipping corpora/stopwords.zip.\n"
          ],
          "name": "stdout"
        }
      ]
    },
    {
      "cell_type": "code",
      "metadata": {
        "colab": {
          "base_uri": "https://localhost:8080/"
        },
        "id": "dvktN6BnkbtM",
        "outputId": "fda95f7c-2893-4f2e-dbec-c1e3c73bb45e"
      },
      "source": [
        "#Remove stopwords from sentences\n",
        "sents = []\n",
        "for sentence in sents0_cleaned:\n",
        "  sentence = ' '.join([word for word in sentence.split() if word not in stop_words])\n",
        "  sents.append(sentence)\n",
        "sents"
      ],
      "execution_count": 14,
      "outputs": [
        {
          "output_type": "execute_result",
          "data": {
            "text/plain": [
              "['The Daman Diu administration Wednesday withdrew circular asked women staff tie rakhis male colleagues order triggered backlash employees ripped apart social media The union territory administration forced retreat within 24 hours issuing circular made compulsory staff celebrate Rakshabandhan workplace',\n",
              " 'It decided celebrate festival Rakshabandhan August 7',\n",
              " 'In connection offices departments shall remain open celebrate festival collectively suitable time wherein lady staff shall tie rakhis colleagues',\n",
              " 'order issued August 1 Gurpreet Singh deputy secretary personnel said To ensure one skipped office attendance report sent government next evening The two notifications',\n",
              " 'one mandating celebration Rakshabandhan left withdrawing mandate right',\n",
              " 'issued Daman Diu administration day apart',\n",
              " 'The circular withdrawn one line order issued late evening UT department personnel administrative reforms',\n",
              " 'The circular ridiculous',\n",
              " 'There sensitivities involved',\n",
              " 'How government dictate I tie rakhi',\n",
              " 'We maintain professionalism workplace',\n",
              " 'official told Hindustan Times earlier day',\n",
              " 'She refused identified The notice issued Daman Diu administrator former Gujarat home minister Praful Kodabhai Patel direction sources said Rakshabandhan celebration bond brothers sisters one several Hindu festivities rituals longer confined private family affairs become tools push politic al ideologies In 2014 year BJP stormed power Centre Rashtriya Swayamsevak Sangh RSS chief Mohan Bhagwat said festival national significance',\n",
              " 'celebrated widely protect Hindu culture live values enshrined',\n",
              " 'The RSS ideological parent ruling BJP Last year women ministers Modi government went border areas celebrate festival soldiers',\n",
              " 'A year cabinet ministers asked go constituencies festival']"
            ]
          },
          "metadata": {
            "tags": []
          },
          "execution_count": 14
        }
      ]
    },
    {
      "cell_type": "code",
      "metadata": {
        "colab": {
          "base_uri": "https://localhost:8080/"
        },
        "id": "MvxgejKZmF6p",
        "outputId": "a7278104-803a-4fb7-eca1-b9ecd815e2c4"
      },
      "source": [
        "#tokenize sentences to get a lists of tokenized sentences then merge \n",
        "# all the lists to for all_words vocab list\n",
        "tokens = []\n",
        "for sentence in sents:\n",
        "  tokens.append(nltk.word_tokenize(sentence.lower()))\n",
        "\n",
        "all_words = []\n",
        "for l_tokens in tokens:\n",
        "  for token in l_tokens:\n",
        "    all_words.append(token)\n",
        "\n",
        "all_words"
      ],
      "execution_count": 15,
      "outputs": [
        {
          "output_type": "execute_result",
          "data": {
            "text/plain": [
              "['the',\n",
              " 'daman',\n",
              " 'diu',\n",
              " 'administration',\n",
              " 'wednesday',\n",
              " 'withdrew',\n",
              " 'circular',\n",
              " 'asked',\n",
              " 'women',\n",
              " 'staff',\n",
              " 'tie',\n",
              " 'rakhis',\n",
              " 'male',\n",
              " 'colleagues',\n",
              " 'order',\n",
              " 'triggered',\n",
              " 'backlash',\n",
              " 'employees',\n",
              " 'ripped',\n",
              " 'apart',\n",
              " 'social',\n",
              " 'media',\n",
              " 'the',\n",
              " 'union',\n",
              " 'territory',\n",
              " 'administration',\n",
              " 'forced',\n",
              " 'retreat',\n",
              " 'within',\n",
              " '24',\n",
              " 'hours',\n",
              " 'issuing',\n",
              " 'circular',\n",
              " 'made',\n",
              " 'compulsory',\n",
              " 'staff',\n",
              " 'celebrate',\n",
              " 'rakshabandhan',\n",
              " 'workplace',\n",
              " 'it',\n",
              " 'decided',\n",
              " 'celebrate',\n",
              " 'festival',\n",
              " 'rakshabandhan',\n",
              " 'august',\n",
              " '7',\n",
              " 'in',\n",
              " 'connection',\n",
              " 'offices',\n",
              " 'departments',\n",
              " 'shall',\n",
              " 'remain',\n",
              " 'open',\n",
              " 'celebrate',\n",
              " 'festival',\n",
              " 'collectively',\n",
              " 'suitable',\n",
              " 'time',\n",
              " 'wherein',\n",
              " 'lady',\n",
              " 'staff',\n",
              " 'shall',\n",
              " 'tie',\n",
              " 'rakhis',\n",
              " 'colleagues',\n",
              " 'order',\n",
              " 'issued',\n",
              " 'august',\n",
              " '1',\n",
              " 'gurpreet',\n",
              " 'singh',\n",
              " 'deputy',\n",
              " 'secretary',\n",
              " 'personnel',\n",
              " 'said',\n",
              " 'to',\n",
              " 'ensure',\n",
              " 'one',\n",
              " 'skipped',\n",
              " 'office',\n",
              " 'attendance',\n",
              " 'report',\n",
              " 'sent',\n",
              " 'government',\n",
              " 'next',\n",
              " 'evening',\n",
              " 'the',\n",
              " 'two',\n",
              " 'notifications',\n",
              " 'one',\n",
              " 'mandating',\n",
              " 'celebration',\n",
              " 'rakshabandhan',\n",
              " 'left',\n",
              " 'withdrawing',\n",
              " 'mandate',\n",
              " 'right',\n",
              " 'issued',\n",
              " 'daman',\n",
              " 'diu',\n",
              " 'administration',\n",
              " 'day',\n",
              " 'apart',\n",
              " 'the',\n",
              " 'circular',\n",
              " 'withdrawn',\n",
              " 'one',\n",
              " 'line',\n",
              " 'order',\n",
              " 'issued',\n",
              " 'late',\n",
              " 'evening',\n",
              " 'ut',\n",
              " 'department',\n",
              " 'personnel',\n",
              " 'administrative',\n",
              " 'reforms',\n",
              " 'the',\n",
              " 'circular',\n",
              " 'ridiculous',\n",
              " 'there',\n",
              " 'sensitivities',\n",
              " 'involved',\n",
              " 'how',\n",
              " 'government',\n",
              " 'dictate',\n",
              " 'i',\n",
              " 'tie',\n",
              " 'rakhi',\n",
              " 'we',\n",
              " 'maintain',\n",
              " 'professionalism',\n",
              " 'workplace',\n",
              " 'official',\n",
              " 'told',\n",
              " 'hindustan',\n",
              " 'times',\n",
              " 'earlier',\n",
              " 'day',\n",
              " 'she',\n",
              " 'refused',\n",
              " 'identified',\n",
              " 'the',\n",
              " 'notice',\n",
              " 'issued',\n",
              " 'daman',\n",
              " 'diu',\n",
              " 'administrator',\n",
              " 'former',\n",
              " 'gujarat',\n",
              " 'home',\n",
              " 'minister',\n",
              " 'praful',\n",
              " 'kodabhai',\n",
              " 'patel',\n",
              " 'direction',\n",
              " 'sources',\n",
              " 'said',\n",
              " 'rakshabandhan',\n",
              " 'celebration',\n",
              " 'bond',\n",
              " 'brothers',\n",
              " 'sisters',\n",
              " 'one',\n",
              " 'several',\n",
              " 'hindu',\n",
              " 'festivities',\n",
              " 'rituals',\n",
              " 'longer',\n",
              " 'confined',\n",
              " 'private',\n",
              " 'family',\n",
              " 'affairs',\n",
              " 'become',\n",
              " 'tools',\n",
              " 'push',\n",
              " 'politic',\n",
              " 'al',\n",
              " 'ideologies',\n",
              " 'in',\n",
              " '2014',\n",
              " 'year',\n",
              " 'bjp',\n",
              " 'stormed',\n",
              " 'power',\n",
              " 'centre',\n",
              " 'rashtriya',\n",
              " 'swayamsevak',\n",
              " 'sangh',\n",
              " 'rss',\n",
              " 'chief',\n",
              " 'mohan',\n",
              " 'bhagwat',\n",
              " 'said',\n",
              " 'festival',\n",
              " 'national',\n",
              " 'significance',\n",
              " 'celebrated',\n",
              " 'widely',\n",
              " 'protect',\n",
              " 'hindu',\n",
              " 'culture',\n",
              " 'live',\n",
              " 'values',\n",
              " 'enshrined',\n",
              " 'the',\n",
              " 'rss',\n",
              " 'ideological',\n",
              " 'parent',\n",
              " 'ruling',\n",
              " 'bjp',\n",
              " 'last',\n",
              " 'year',\n",
              " 'women',\n",
              " 'ministers',\n",
              " 'modi',\n",
              " 'government',\n",
              " 'went',\n",
              " 'border',\n",
              " 'areas',\n",
              " 'celebrate',\n",
              " 'festival',\n",
              " 'soldiers',\n",
              " 'a',\n",
              " 'year',\n",
              " 'cabinet',\n",
              " 'ministers',\n",
              " 'asked',\n",
              " 'go',\n",
              " 'constituencies',\n",
              " 'festival']"
            ]
          },
          "metadata": {
            "tags": []
          },
          "execution_count": 15
        }
      ]
    },
    {
      "cell_type": "code",
      "metadata": {
        "id": "XYI3xsQJrjAv"
      },
      "source": [
        "#import porter stemmer\n",
        "from nltk import PorterStemmer \n",
        "#create porterstemmer object\n",
        "ps = PorterStemmer()"
      ],
      "execution_count": 16,
      "outputs": []
    },
    {
      "cell_type": "code",
      "metadata": {
        "id": "tex0jSXf7MZh",
        "colab": {
          "base_uri": "https://localhost:8080/"
        },
        "outputId": "24c54111-48f7-4f37-e2cd-33edddac6c21"
      },
      "source": [
        "#Create a dictionary using all_words with words as keys and word - frequencies\n",
        "# as values \n",
        "frequency = dict()\n",
        "for word in all_words:\n",
        "  word = ps.stem(word)\n",
        "  if word in frequency:\n",
        "    frequency[word] += 1\n",
        "  else:\n",
        "    frequency[word] = 1\n",
        "frequency    "
      ],
      "execution_count": 17,
      "outputs": [
        {
          "output_type": "execute_result",
          "data": {
            "text/plain": [
              "{'1': 1,\n",
              " '2014': 1,\n",
              " '24': 1,\n",
              " '7': 1,\n",
              " 'a': 1,\n",
              " 'administr': 5,\n",
              " 'affair': 1,\n",
              " 'al': 1,\n",
              " 'apart': 2,\n",
              " 'area': 1,\n",
              " 'ask': 2,\n",
              " 'attend': 1,\n",
              " 'august': 2,\n",
              " 'backlash': 1,\n",
              " 'becom': 1,\n",
              " 'bhagwat': 1,\n",
              " 'bjp': 2,\n",
              " 'bond': 1,\n",
              " 'border': 1,\n",
              " 'brother': 1,\n",
              " 'cabinet': 1,\n",
              " 'celebr': 7,\n",
              " 'centr': 1,\n",
              " 'chief': 1,\n",
              " 'circular': 4,\n",
              " 'colleagu': 2,\n",
              " 'collect': 1,\n",
              " 'compulsori': 1,\n",
              " 'confin': 1,\n",
              " 'connect': 1,\n",
              " 'constitu': 1,\n",
              " 'cultur': 1,\n",
              " 'daman': 3,\n",
              " 'day': 2,\n",
              " 'decid': 1,\n",
              " 'depart': 2,\n",
              " 'deputi': 1,\n",
              " 'dictat': 1,\n",
              " 'direct': 1,\n",
              " 'diu': 3,\n",
              " 'earlier': 1,\n",
              " 'employe': 1,\n",
              " 'enshrin': 1,\n",
              " 'ensur': 1,\n",
              " 'even': 2,\n",
              " 'famili': 1,\n",
              " 'festiv': 6,\n",
              " 'forc': 1,\n",
              " 'former': 1,\n",
              " 'go': 1,\n",
              " 'govern': 3,\n",
              " 'gujarat': 1,\n",
              " 'gurpreet': 1,\n",
              " 'hindu': 2,\n",
              " 'hindustan': 1,\n",
              " 'home': 1,\n",
              " 'hour': 1,\n",
              " 'how': 1,\n",
              " 'i': 1,\n",
              " 'identifi': 1,\n",
              " 'ideolog': 2,\n",
              " 'in': 2,\n",
              " 'involv': 1,\n",
              " 'issu': 5,\n",
              " 'it': 1,\n",
              " 'kodabhai': 1,\n",
              " 'ladi': 1,\n",
              " 'last': 1,\n",
              " 'late': 1,\n",
              " 'left': 1,\n",
              " 'line': 1,\n",
              " 'live': 1,\n",
              " 'longer': 1,\n",
              " 'made': 1,\n",
              " 'maintain': 1,\n",
              " 'male': 1,\n",
              " 'mandat': 2,\n",
              " 'media': 1,\n",
              " 'minist': 3,\n",
              " 'modi': 1,\n",
              " 'mohan': 1,\n",
              " 'nation': 1,\n",
              " 'next': 1,\n",
              " 'notic': 1,\n",
              " 'notif': 1,\n",
              " 'offic': 2,\n",
              " 'offici': 1,\n",
              " 'one': 4,\n",
              " 'open': 1,\n",
              " 'order': 3,\n",
              " 'parent': 1,\n",
              " 'patel': 1,\n",
              " 'personnel': 2,\n",
              " 'polit': 1,\n",
              " 'power': 1,\n",
              " 'praful': 1,\n",
              " 'privat': 1,\n",
              " 'profession': 1,\n",
              " 'protect': 1,\n",
              " 'push': 1,\n",
              " 'rakhi': 3,\n",
              " 'rakshabandhan': 4,\n",
              " 'rashtriya': 1,\n",
              " 'reform': 1,\n",
              " 'refus': 1,\n",
              " 'remain': 1,\n",
              " 'report': 1,\n",
              " 'retreat': 1,\n",
              " 'ridicul': 1,\n",
              " 'right': 1,\n",
              " 'rip': 1,\n",
              " 'ritual': 1,\n",
              " 'rss': 2,\n",
              " 'rule': 1,\n",
              " 'said': 3,\n",
              " 'sangh': 1,\n",
              " 'secretari': 1,\n",
              " 'sensit': 1,\n",
              " 'sent': 1,\n",
              " 'sever': 1,\n",
              " 'shall': 2,\n",
              " 'she': 1,\n",
              " 'signific': 1,\n",
              " 'singh': 1,\n",
              " 'sister': 1,\n",
              " 'skip': 1,\n",
              " 'social': 1,\n",
              " 'soldier': 1,\n",
              " 'sourc': 1,\n",
              " 'staff': 3,\n",
              " 'storm': 1,\n",
              " 'suitabl': 1,\n",
              " 'swayamsevak': 1,\n",
              " 'territori': 1,\n",
              " 'the': 7,\n",
              " 'there': 1,\n",
              " 'tie': 3,\n",
              " 'time': 2,\n",
              " 'to': 1,\n",
              " 'told': 1,\n",
              " 'tool': 1,\n",
              " 'trigger': 1,\n",
              " 'two': 1,\n",
              " 'union': 1,\n",
              " 'ut': 1,\n",
              " 'valu': 1,\n",
              " 'we': 1,\n",
              " 'wednesday': 1,\n",
              " 'went': 1,\n",
              " 'wherein': 1,\n",
              " 'wide': 1,\n",
              " 'withdraw': 1,\n",
              " 'withdrawn': 1,\n",
              " 'withdrew': 1,\n",
              " 'within': 1,\n",
              " 'women': 2,\n",
              " 'workplac': 2,\n",
              " 'year': 3}"
            ]
          },
          "metadata": {
            "tags": []
          },
          "execution_count": 17
        }
      ]
    },
    {
      "cell_type": "code",
      "metadata": {
        "colab": {
          "base_uri": "https://localhost:8080/"
        },
        "id": "38mxpu2vx0u6",
        "outputId": "d4e96231-54f0-4e1b-85ff-99aecec3ba79"
      },
      "source": [
        "# Get the most frequent word and its frequency\n",
        "freq_word = None\n",
        "most_freq = 0\n",
        "for key, value in frequency.items():\n",
        "  if value > most_freq:\n",
        "    most_freq = value\n",
        "    freq_word = key\n",
        "print(most_freq)\n",
        "print(freq_word)"
      ],
      "execution_count": 18,
      "outputs": [
        {
          "output_type": "stream",
          "text": [
            "7\n",
            "the\n"
          ],
          "name": "stdout"
        }
      ]
    },
    {
      "cell_type": "code",
      "metadata": {
        "colab": {
          "base_uri": "https://localhost:8080/"
        },
        "id": "6MiqxAA9T7uw",
        "outputId": "bd759017-7fbb-484c-80e9-9f9c40300f06"
      },
      "source": [
        "# Nrmalize the word-counts in dictionary with in range of 0 to 1 \n",
        "for key, value in frequency.items():\n",
        "  frequency[key] = round(value/most_freq, 2)\n",
        "print(frequency)"
      ],
      "execution_count": 19,
      "outputs": [
        {
          "output_type": "stream",
          "text": [
            "{'the': 1.0, 'daman': 0.43, 'diu': 0.43, 'administr': 0.71, 'wednesday': 0.14, 'withdrew': 0.14, 'circular': 0.57, 'ask': 0.29, 'women': 0.29, 'staff': 0.43, 'tie': 0.43, 'rakhi': 0.43, 'male': 0.14, 'colleagu': 0.29, 'order': 0.43, 'trigger': 0.14, 'backlash': 0.14, 'employe': 0.14, 'rip': 0.14, 'apart': 0.29, 'social': 0.14, 'media': 0.14, 'union': 0.14, 'territori': 0.14, 'forc': 0.14, 'retreat': 0.14, 'within': 0.14, '24': 0.14, 'hour': 0.14, 'issu': 0.71, 'made': 0.14, 'compulsori': 0.14, 'celebr': 1.0, 'rakshabandhan': 0.57, 'workplac': 0.29, 'it': 0.14, 'decid': 0.14, 'festiv': 0.86, 'august': 0.29, '7': 0.14, 'in': 0.29, 'connect': 0.14, 'offic': 0.29, 'depart': 0.29, 'shall': 0.29, 'remain': 0.14, 'open': 0.14, 'collect': 0.14, 'suitabl': 0.14, 'time': 0.29, 'wherein': 0.14, 'ladi': 0.14, '1': 0.14, 'gurpreet': 0.14, 'singh': 0.14, 'deputi': 0.14, 'secretari': 0.14, 'personnel': 0.29, 'said': 0.43, 'to': 0.14, 'ensur': 0.14, 'one': 0.57, 'skip': 0.14, 'attend': 0.14, 'report': 0.14, 'sent': 0.14, 'govern': 0.43, 'next': 0.14, 'even': 0.29, 'two': 0.14, 'notif': 0.14, 'mandat': 0.29, 'left': 0.14, 'withdraw': 0.14, 'right': 0.14, 'day': 0.29, 'withdrawn': 0.14, 'line': 0.14, 'late': 0.14, 'ut': 0.14, 'reform': 0.14, 'ridicul': 0.14, 'there': 0.14, 'sensit': 0.14, 'involv': 0.14, 'how': 0.14, 'dictat': 0.14, 'i': 0.14, 'we': 0.14, 'maintain': 0.14, 'profession': 0.14, 'offici': 0.14, 'told': 0.14, 'hindustan': 0.14, 'earlier': 0.14, 'she': 0.14, 'refus': 0.14, 'identifi': 0.14, 'notic': 0.14, 'former': 0.14, 'gujarat': 0.14, 'home': 0.14, 'minist': 0.43, 'praful': 0.14, 'kodabhai': 0.14, 'patel': 0.14, 'direct': 0.14, 'sourc': 0.14, 'bond': 0.14, 'brother': 0.14, 'sister': 0.14, 'sever': 0.14, 'hindu': 0.29, 'ritual': 0.14, 'longer': 0.14, 'confin': 0.14, 'privat': 0.14, 'famili': 0.14, 'affair': 0.14, 'becom': 0.14, 'tool': 0.14, 'push': 0.14, 'polit': 0.14, 'al': 0.14, 'ideolog': 0.29, '2014': 0.14, 'year': 0.43, 'bjp': 0.29, 'storm': 0.14, 'power': 0.14, 'centr': 0.14, 'rashtriya': 0.14, 'swayamsevak': 0.14, 'sangh': 0.14, 'rss': 0.29, 'chief': 0.14, 'mohan': 0.14, 'bhagwat': 0.14, 'nation': 0.14, 'signific': 0.14, 'wide': 0.14, 'protect': 0.14, 'cultur': 0.14, 'live': 0.14, 'valu': 0.14, 'enshrin': 0.14, 'parent': 0.14, 'rule': 0.14, 'last': 0.14, 'modi': 0.14, 'went': 0.14, 'border': 0.14, 'area': 0.14, 'soldier': 0.14, 'a': 0.14, 'cabinet': 0.14, 'go': 0.14, 'constitu': 0.14}\n"
          ],
          "name": "stdout"
        }
      ]
    },
    {
      "cell_type": "code",
      "metadata": {
        "colab": {
          "base_uri": "https://localhost:8080/"
        },
        "id": "C7XucL7_1Azi",
        "outputId": "fe14720e-673c-4525-e964-5e8e43ed0239"
      },
      "source": [
        "# Set a frequency-score and use it to make list of important-words \n",
        "imp_words = []\n",
        "freq_score = 0.5\n",
        "for key, value in frequency.items():\n",
        "  if value > freq_score :\n",
        "    imp_words.append(key)\n",
        "imp_words"
      ],
      "execution_count": 20,
      "outputs": [
        {
          "output_type": "execute_result",
          "data": {
            "text/plain": [
              "['the',\n",
              " 'administr',\n",
              " 'circular',\n",
              " 'issu',\n",
              " 'celebr',\n",
              " 'rakshabandhan',\n",
              " 'festiv',\n",
              " 'one']"
            ]
          },
          "metadata": {
            "tags": []
          },
          "execution_count": 20
        }
      ]
    },
    {
      "cell_type": "code",
      "metadata": {
        "colab": {
          "base_uri": "https://localhost:8080/"
        },
        "id": "qLBxuQIk1qpO",
        "outputId": "ddae8c31-920e-44e0-a66c-06b966f10762"
      },
      "source": [
        "#Use the imp_words list to select important-sentences into a list \n",
        "imp_sents = []\n",
        "for sentence in sents:\n",
        "  for word in imp_words:\n",
        "    if sentence.lower().find(word) != -1 and sentence not in imp_sents:\n",
        "      imp_sents.append(sentence)\n",
        "  \n",
        "imp_sents  "
      ],
      "execution_count": 21,
      "outputs": [
        {
          "output_type": "execute_result",
          "data": {
            "text/plain": [
              "['The Daman Diu administration Wednesday withdrew circular asked women staff tie rakhis male colleagues order triggered backlash employees ripped apart social media The union territory administration forced retreat within 24 hours issuing circular made compulsory staff celebrate Rakshabandhan workplace',\n",
              " 'It decided celebrate festival Rakshabandhan August 7',\n",
              " 'In connection offices departments shall remain open celebrate festival collectively suitable time wherein lady staff shall tie rakhis colleagues',\n",
              " 'order issued August 1 Gurpreet Singh deputy secretary personnel said To ensure one skipped office attendance report sent government next evening The two notifications',\n",
              " 'one mandating celebration Rakshabandhan left withdrawing mandate right',\n",
              " 'issued Daman Diu administration day apart',\n",
              " 'The circular withdrawn one line order issued late evening UT department personnel administrative reforms',\n",
              " 'The circular ridiculous',\n",
              " 'There sensitivities involved',\n",
              " 'She refused identified The notice issued Daman Diu administrator former Gujarat home minister Praful Kodabhai Patel direction sources said Rakshabandhan celebration bond brothers sisters one several Hindu festivities rituals longer confined private family affairs become tools push politic al ideologies In 2014 year BJP stormed power Centre Rashtriya Swayamsevak Sangh RSS chief Mohan Bhagwat said festival national significance',\n",
              " 'celebrated widely protect Hindu culture live values enshrined',\n",
              " 'The RSS ideological parent ruling BJP Last year women ministers Modi government went border areas celebrate festival soldiers',\n",
              " 'A year cabinet ministers asked go constituencies festival']"
            ]
          },
          "metadata": {
            "tags": []
          },
          "execution_count": 21
        }
      ]
    },
    {
      "cell_type": "code",
      "metadata": {
        "colab": {
          "base_uri": "https://localhost:8080/"
        },
        "id": "Q4wyeqNX57_x",
        "outputId": "5a579f8a-959f-4262-9652-f365b14d8036"
      },
      "source": [
        "#Personalize the imp_words list as per your needs and the above results\n",
        "imp_words.remove(\"the\")\n",
        "imp_words"
      ],
      "execution_count": 22,
      "outputs": [
        {
          "output_type": "execute_result",
          "data": {
            "text/plain": [
              "['administr', 'circular', 'issu', 'celebr', 'rakshabandhan', 'festiv', 'one']"
            ]
          },
          "metadata": {
            "tags": []
          },
          "execution_count": 22
        }
      ]
    },
    {
      "cell_type": "code",
      "metadata": {
        "colab": {
          "base_uri": "https://localhost:8080/"
        },
        "id": "HqZXFERb6IwE",
        "outputId": "5dc375c8-3e2f-4d01-e0a8-a2af2e5b3828"
      },
      "source": [
        "#Make the list of important sentences using personalized list of words\n",
        "imp_sents = []\n",
        "for sentence in sents:\n",
        "  for word in imp_words:\n",
        "    if sentence.lower().find(word) != -1 and sentence not in imp_sents:\n",
        "      imp_sents.append(sentence)\n",
        "  \n",
        "imp_sents  "
      ],
      "execution_count": 23,
      "outputs": [
        {
          "output_type": "execute_result",
          "data": {
            "text/plain": [
              "['The Daman Diu administration Wednesday withdrew circular asked women staff tie rakhis male colleagues order triggered backlash employees ripped apart social media The union territory administration forced retreat within 24 hours issuing circular made compulsory staff celebrate Rakshabandhan workplace',\n",
              " 'It decided celebrate festival Rakshabandhan August 7',\n",
              " 'In connection offices departments shall remain open celebrate festival collectively suitable time wherein lady staff shall tie rakhis colleagues',\n",
              " 'order issued August 1 Gurpreet Singh deputy secretary personnel said To ensure one skipped office attendance report sent government next evening The two notifications',\n",
              " 'one mandating celebration Rakshabandhan left withdrawing mandate right',\n",
              " 'issued Daman Diu administration day apart',\n",
              " 'The circular withdrawn one line order issued late evening UT department personnel administrative reforms',\n",
              " 'The circular ridiculous',\n",
              " 'She refused identified The notice issued Daman Diu administrator former Gujarat home minister Praful Kodabhai Patel direction sources said Rakshabandhan celebration bond brothers sisters one several Hindu festivities rituals longer confined private family affairs become tools push politic al ideologies In 2014 year BJP stormed power Centre Rashtriya Swayamsevak Sangh RSS chief Mohan Bhagwat said festival national significance',\n",
              " 'celebrated widely protect Hindu culture live values enshrined',\n",
              " 'The RSS ideological parent ruling BJP Last year women ministers Modi government went border areas celebrate festival soldiers',\n",
              " 'A year cabinet ministers asked go constituencies festival']"
            ]
          },
          "metadata": {
            "tags": []
          },
          "execution_count": 23
        }
      ]
    },
    {
      "cell_type": "code",
      "metadata": {
        "colab": {
          "base_uri": "https://localhost:8080/",
          "height": 169
        },
        "id": "N7dmXC_APWal",
        "outputId": "19e08fad-079a-43eb-d2a9-7a7159b6431d"
      },
      "source": [
        "#Prepare the summary using the sentence list\n",
        "summarized_news = '. '.join([sent for sent in imp_sents])\n",
        "summarized_news\n",
        "   "
      ],
      "execution_count": 24,
      "outputs": [
        {
          "output_type": "execute_result",
          "data": {
            "application/vnd.google.colaboratory.intrinsic+json": {
              "type": "string"
            },
            "text/plain": [
              "'The Daman Diu administration Wednesday withdrew circular asked women staff tie rakhis male colleagues order triggered backlash employees ripped apart social media The union territory administration forced retreat within 24 hours issuing circular made compulsory staff celebrate Rakshabandhan workplace. It decided celebrate festival Rakshabandhan August 7. In connection offices departments shall remain open celebrate festival collectively suitable time wherein lady staff shall tie rakhis colleagues. order issued August 1 Gurpreet Singh deputy secretary personnel said To ensure one skipped office attendance report sent government next evening The two notifications. one mandating celebration Rakshabandhan left withdrawing mandate right. issued Daman Diu administration day apart. The circular withdrawn one line order issued late evening UT department personnel administrative reforms. The circular ridiculous. She refused identified The notice issued Daman Diu administrator former Gujarat home minister Praful Kodabhai Patel direction sources said Rakshabandhan celebration bond brothers sisters one several Hindu festivities rituals longer confined private family affairs become tools push politic al ideologies In 2014 year BJP stormed power Centre Rashtriya Swayamsevak Sangh RSS chief Mohan Bhagwat said festival national significance. celebrated widely protect Hindu culture live values enshrined. The RSS ideological parent ruling BJP Last year women ministers Modi government went border areas celebrate festival soldiers. A year cabinet ministers asked go constituencies festival'"
            ]
          },
          "metadata": {
            "tags": []
          },
          "execution_count": 24
        }
      ]
    },
    {
      "cell_type": "code",
      "metadata": {
        "colab": {
          "base_uri": "https://localhost:8080/",
          "height": 172
        },
        "id": "AF5j2AsutOww",
        "outputId": "4aeccfd7-0333-4167-94a1-2c8891c77b73"
      },
      "source": [
        "#Make the list of important sentences using personalized list of words\n",
        "imp_sents = []\n",
        "for sentence in sents:\n",
        "    if sentence.lower().find(imp_words[4]) != -1 and sentence not in imp_sents:\n",
        "      imp_sents.append(sentence)\n",
        "  \n",
        "print(imp_sents)\n",
        "\n",
        "#Prepare the summary using the sentence list\n",
        "summarized_news = '. '.join([sent for sent in imp_sents])\n",
        "summarized_news"
      ],
      "execution_count": 27,
      "outputs": [
        {
          "output_type": "stream",
          "text": [
            "['The Daman Diu administration Wednesday withdrew circular asked women staff tie rakhis male colleagues order triggered backlash employees ripped apart social media The union territory administration forced retreat within 24 hours issuing circular made compulsory staff celebrate Rakshabandhan workplace', 'It decided celebrate festival Rakshabandhan August 7', 'one mandating celebration Rakshabandhan left withdrawing mandate right', 'She refused identified The notice issued Daman Diu administrator former Gujarat home minister Praful Kodabhai Patel direction sources said Rakshabandhan celebration bond brothers sisters one several Hindu festivities rituals longer confined private family affairs become tools push politic al ideologies In 2014 year BJP stormed power Centre Rashtriya Swayamsevak Sangh RSS chief Mohan Bhagwat said festival national significance']\n"
          ],
          "name": "stdout"
        },
        {
          "output_type": "execute_result",
          "data": {
            "application/vnd.google.colaboratory.intrinsic+json": {
              "type": "string"
            },
            "text/plain": [
              "'The Daman Diu administration Wednesday withdrew circular asked women staff tie rakhis male colleagues order triggered backlash employees ripped apart social media The union territory administration forced retreat within 24 hours issuing circular made compulsory staff celebrate Rakshabandhan workplace. It decided celebrate festival Rakshabandhan August 7. one mandating celebration Rakshabandhan left withdrawing mandate right. She refused identified The notice issued Daman Diu administrator former Gujarat home minister Praful Kodabhai Patel direction sources said Rakshabandhan celebration bond brothers sisters one several Hindu festivities rituals longer confined private family affairs become tools push politic al ideologies In 2014 year BJP stormed power Centre Rashtriya Swayamsevak Sangh RSS chief Mohan Bhagwat said festival national significance'"
            ]
          },
          "metadata": {
            "tags": []
          },
          "execution_count": 27
        }
      ]
    },
    {
      "cell_type": "code",
      "metadata": {
        "id": "tJU2WQBL9knz"
      },
      "source": [
        ""
      ],
      "execution_count": null,
      "outputs": []
    }
  ]
}